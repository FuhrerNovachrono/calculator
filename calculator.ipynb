{
 "cells": [
  {
   "cell_type": "code",
   "execution_count": 2,
   "id": "a6646f5d",
   "metadata": {},
   "outputs": [
    {
     "name": "stdout",
     "output_type": "stream",
     "text": [
      "enter first figure 60\n",
      "mathematical operator +\n",
      "enter second figure 80\n"
     ]
    },
    {
     "data": {
      "text/plain": [
       "140"
      ]
     },
     "execution_count": 2,
     "metadata": {},
     "output_type": "execute_result"
    }
   ],
   "source": [
    "def calculator(x,y,z):\n",
    "  try:\n",
    "    if y == '+':\n",
    "      return x + z\n",
    "    elif y == '-':\n",
    "      return x-z\n",
    "    elif y == '*':\n",
    "      return x*z\n",
    "    elif y == '/':\n",
    "      return x/y\n",
    "  except:\n",
    "    return 'You didnt put in the right input'\n",
    "\n",
    "x = int(input('enter first figure ' ))\n",
    "y = input('mathematical operator ' )\n",
    "z = int(input('enter second figure ' ))\n",
    "\n",
    "input \n",
    "\n",
    "\n",
    "calculator(x,y,z)"
   ]
  },
  {
   "cell_type": "code",
   "execution_count": null,
   "id": "8c0e7457",
   "metadata": {},
   "outputs": [],
   "source": []
  },
  {
   "cell_type": "code",
   "execution_count": null,
   "id": "2218b51f",
   "metadata": {},
   "outputs": [],
   "source": []
  }
 ],
 "metadata": {
  "kernelspec": {
   "display_name": "Python 3 (ipykernel)",
   "language": "python",
   "name": "python3"
  },
  "language_info": {
   "codemirror_mode": {
    "name": "ipython",
    "version": 3
   },
   "file_extension": ".py",
   "mimetype": "text/x-python",
   "name": "python",
   "nbconvert_exporter": "python",
   "pygments_lexer": "ipython3",
   "version": "3.9.13"
  }
 },
 "nbformat": 4,
 "nbformat_minor": 5
}
